{
 "cells": [
  {
   "cell_type": "markdown",
   "id": "dde8e91b",
   "metadata": {},
   "source": [
    "# Bibliotecas e pacotes utilizados"
   ]
  },
  {
   "cell_type": "code",
   "execution_count": 78,
   "id": "583cd594",
   "metadata": {},
   "outputs": [
    {
     "name": "stdout",
     "output_type": "stream",
     "text": [
      "Collecting prettytable\n",
      "  Downloading prettytable-3.9.0-py3-none-any.whl (27 kB)\n",
      "Requirement already satisfied: wcwidth in c:\\users\\user\\anaconda3\\lib\\site-packages (from prettytable) (0.2.5)\n",
      "Installing collected packages: prettytable\n",
      "Successfully installed prettytable-3.9.0\n",
      "Note: you may need to restart the kernel to use updated packages.\n"
     ]
    }
   ],
   "source": [
    "pip install prettytable\n"
   ]
  },
  {
   "cell_type": "code",
   "execution_count": 132,
   "id": "cc614b46",
   "metadata": {},
   "outputs": [],
   "source": [
    "import pandas as pd\n",
    "from prettytable import PrettyTable\n",
    "import os\n",
    "from IPython.display import display\n",
    "import matplotlib.pyplot as plt\n",
    "import seaborn as sns"
   ]
  },
  {
   "cell_type": "code",
   "execution_count": 195,
   "id": "45ab0fc2",
   "metadata": {},
   "outputs": [],
   "source": [
    "# Configurações de estilo para seaborn\n",
    "sns.set(style=\"whitegrid\")"
   ]
  },
  {
   "cell_type": "markdown",
   "id": "c15c7bdd",
   "metadata": {},
   "source": [
    "# Apontando para o caminho onde estão os arquivos e validando se todos os arquivos estão de acordo."
   ]
  },
  {
   "cell_type": "code",
   "execution_count": 204,
   "id": "ed83ce99",
   "metadata": {},
   "outputs": [],
   "source": [
    "# Especifique o diretório onde estão os arquivos CSV\n",
    "caminho_arquivo = r'C:\\Users\\User\\Downloads\\Bases de dados para exploração\\Acidentes rodovias federais Brasil'"
   ]
  },
  {
   "cell_type": "code",
   "execution_count": 205,
   "id": "df2ff771",
   "metadata": {},
   "outputs": [],
   "source": [
    "# Iterar pelos anos\n",
    "for ano in range(2007, 2016):\n",
    "    arquivo = f'datatran{ano}.csv'\n",
    "    caminho_arquivo = os.path.join(diretorio, arquivo)"
   ]
  },
  {
   "cell_type": "code",
   "execution_count": 206,
   "id": "7f43b04d",
   "metadata": {
    "scrolled": true
   },
   "outputs": [
    {
     "name": "stdout",
     "output_type": "stream",
     "text": [
      "datatran2007.csv\n",
      "datatran2008.csv\n",
      "datatran2009.csv\n",
      "datatran2010.csv\n",
      "datatran2011.csv\n",
      "datatran2012.csv\n",
      "datatran2013.csv\n",
      "datatran2014.csv\n",
      "datatran2015.csv\n"
     ]
    }
   ],
   "source": [
    "for arquivo in os.listdir(diretorio):\n",
    "    print(arquivo)"
   ]
  },
  {
   "cell_type": "code",
   "execution_count": 207,
   "id": "f9cdc91e",
   "metadata": {},
   "outputs": [
    {
     "name": "stdout",
     "output_type": "stream",
     "text": [
      "Lendo arquivo: C:\\Users\\User\\Downloads\\Bases de dados para exploração\\Acidentes rodovias federais Brasil\\datatran2015.csv\n"
     ]
    }
   ],
   "source": [
    " print(f'Lendo arquivo: {caminho_arquivo}')"
   ]
  },
  {
   "cell_type": "code",
   "execution_count": 208,
   "id": "998a821f",
   "metadata": {},
   "outputs": [
    {
     "name": "stdout",
     "output_type": "stream",
     "text": [
      "Lendo arquivo: C:\\Users\\User\\Downloads\\Bases de dados para exploração\\Acidentes rodovias federais Brasil\\datatran2007.csv\n",
      "Arquivo lido com sucesso.\n",
      "Lendo arquivo: C:\\Users\\User\\Downloads\\Bases de dados para exploração\\Acidentes rodovias federais Brasil\\datatran2008.csv\n",
      "Arquivo lido com sucesso.\n",
      "Lendo arquivo: C:\\Users\\User\\Downloads\\Bases de dados para exploração\\Acidentes rodovias federais Brasil\\datatran2009.csv\n",
      "Arquivo lido com sucesso.\n",
      "Lendo arquivo: C:\\Users\\User\\Downloads\\Bases de dados para exploração\\Acidentes rodovias federais Brasil\\datatran2010.csv\n",
      "Arquivo lido com sucesso.\n",
      "Lendo arquivo: C:\\Users\\User\\Downloads\\Bases de dados para exploração\\Acidentes rodovias federais Brasil\\datatran2011.csv\n",
      "Arquivo lido com sucesso.\n",
      "Lendo arquivo: C:\\Users\\User\\Downloads\\Bases de dados para exploração\\Acidentes rodovias federais Brasil\\datatran2012.csv\n",
      "Arquivo lido com sucesso.\n",
      "Lendo arquivo: C:\\Users\\User\\Downloads\\Bases de dados para exploração\\Acidentes rodovias federais Brasil\\datatran2013.csv\n",
      "Arquivo lido com sucesso.\n",
      "Lendo arquivo: C:\\Users\\User\\Downloads\\Bases de dados para exploração\\Acidentes rodovias federais Brasil\\datatran2014.csv\n",
      "Arquivo lido com sucesso.\n",
      "Lendo arquivo: C:\\Users\\User\\Downloads\\Bases de dados para exploração\\Acidentes rodovias federais Brasil\\datatran2015.csv\n",
      "Arquivo lido com sucesso.\n"
     ]
    }
   ],
   "source": [
    "for ano in range(2007, 2016):\n",
    "    arquivo = f'datatran{ano}.csv'\n",
    "    caminho_arquivo = os.path.join(diretorio, arquivo)\n",
    "    \n",
    "    print(f'Lendo arquivo: {caminho_arquivo}')\n",
    "    \n",
    "    try:\n",
    "        # Especificar tipos de dados para as colunas 5 e 6 (br e km)\n",
    "        col_types = {'br': str, 'km': str}\n",
    "        \n",
    "        # Ler o CSV com o delimitador correto, encoding e tipos de dados\n",
    "        df = pd.read_csv(caminho_arquivo, delimiter=';', encoding='latin-1', dtype=col_types)\n",
    "        dataframes.append(df)\n",
    "        \n",
    "        print('Arquivo lido com sucesso.')\n",
    "    except Exception as e:\n",
    "        print(f'Erro ao ler o arquivo {caminho_arquivo}: {e}')"
   ]
  },
  {
   "cell_type": "markdown",
   "id": "bf153495",
   "metadata": {},
   "source": [
    "# Concatenação (union) dos DataFrames e informações do DataFrame"
   ]
  },
  {
   "cell_type": "code",
   "execution_count": 209,
   "id": "5e336f9d",
   "metadata": {},
   "outputs": [],
   "source": [
    "resultado = pd.concat(dataframes, ignore_index=True)"
   ]
  },
  {
   "cell_type": "code",
   "execution_count": 210,
   "id": "f2e1b5be",
   "metadata": {},
   "outputs": [
    {
     "name": "stdout",
     "output_type": "stream",
     "text": [
      "        id data_inversa dia_semana   horario  uf   br     km  municipio  \\\n",
      "0       10   11/06/2007    Segunda  15:30:00  MG  381  623.2   OLIVEIRA   \n",
      "1       10   11/06/2007    Segunda  15:30:00  MG  381  623.2   OLIVEIRA   \n",
      "2  1032898   13/08/2007    Segunda  14:25:00  MG   40  585.5  ITABIRITO   \n",
      "3  1051130   12/02/2007    Segunda  02:10:00  MA  135     11   SAO LUIS   \n",
      "4  1066824   20/11/2007      Terça  05:30:00  CE  222   30.8    CAUCAIA   \n",
      "\n",
      "                causa_acidente            tipo_acidente  ... uso_solo   ano  \\\n",
      "0             Falta de atenção          Colisão frontal  ...    Rural  2007   \n",
      "1             Falta de atenção          Colisão frontal  ...    Rural  2007   \n",
      "2                       Outras           Saída de Pista  ...    Rural  2007   \n",
      "3             Animais na Pista  Atropelamento de animal  ...   Urbano  2007   \n",
      "4  Defeito mecânico em veículo              Capotamento  ...    Rural  2007   \n",
      "\n",
      "  pessoas mortos feridos_leves feridos_graves ilesos  ignorados  feridos  \\\n",
      "0       9      0             4              0      5          0        4   \n",
      "1       9      0             4              0      5          0        4   \n",
      "2       3      0             0              1      2          0        1   \n",
      "3       5      2             2              1      0          0        3   \n",
      "4       1      0             1              0      0          0        1   \n",
      "\n",
      "   veiculos  \n",
      "0         6  \n",
      "1         6  \n",
      "2         1  \n",
      "3         1  \n",
      "4         1  \n",
      "\n",
      "[5 rows x 26 columns]\n"
     ]
    }
   ],
   "source": [
    "# Exibir as primeiras linhas do DataFrame\n",
    "print(resultado.head())"
   ]
  },
  {
   "cell_type": "code",
   "execution_count": 211,
   "id": "2fabb69a",
   "metadata": {
    "scrolled": false
   },
   "outputs": [
    {
     "data": {
      "text/plain": [
       "<bound method DataFrame.info of               id data_inversa dia_semana   horario  uf   br     km  \\\n",
       "0       83298209   2015-01-01     Quinta  00:05:00  RJ  101    327   \n",
       "1       83298218   2015-01-01     Quinta  01:20:00  MS  163  434.4   \n",
       "2       83298220   2015-01-01     Quinta  01:45:00  RJ   40     64   \n",
       "3       83298221   2015-01-01     Quinta  02:50:00  SC  101  356.1   \n",
       "4       83298222   2015-01-01     Quinta  02:50:00  RS  101   25.9   \n",
       "...          ...          ...        ...       ...  ..  ...    ...   \n",
       "122156  83480933   2015-12-05     Sábado  16:00:00  SC  101     37   \n",
       "122157  83480982   2015-11-23    Segunda  16:00:00  MT  163    512   \n",
       "122158  83481192   2015-12-24     Quinta  16:30:00  DF   80    0.5   \n",
       "122159  83481253   2015-07-13    Segunda  14:30:00  AL  104   52.9   \n",
       "122160  83481326   2015-07-13    Segunda  20:50:00  RS  116    266   \n",
       "\n",
       "              municipio                      causa_acidente  \\\n",
       "0               NITEROI                              Outras   \n",
       "1          CAMPO GRANDE                    Animais na Pista   \n",
       "2            PETROPOLIS                              Outras   \n",
       "3                SANGAO                    Falta de atenção   \n",
       "4       TRES CACHOEIRAS                    Falta de atenção   \n",
       "...                 ...                                 ...   \n",
       "122156        JOINVILLE                    Falta de atenção   \n",
       "122157       DIAMANTINO  Não guardar distância de segurança   \n",
       "122158         BRASILIA                    Falta de atenção   \n",
       "122159           MURICI                              Outras   \n",
       "122160           CANOAS                    Falta de atenção   \n",
       "\n",
       "                                     tipo_acidente  ... uso_solo   ano  \\\n",
       "0                                 Colisão traseira  ...   Urbano  2015   \n",
       "1                                   Saída de Pista  ...    Rural  2015   \n",
       "2                          Colisão com objeto fixo  ...   Urbano  2015   \n",
       "3                                   Saída de Pista  ...   Urbano  2015   \n",
       "4                                   Saída de Pista  ...   Urbano  2015   \n",
       "...                                            ...  ...      ...   ...   \n",
       "122156  Queda de motocicleta / bicicleta / veículo  ...   Urbano  2015   \n",
       "122157                            Colisão traseira  ...    Rural  2015   \n",
       "122158                             Colisão lateral  ...    Rural  2015   \n",
       "122159                              Saída de Pista  ...    Rural  2015   \n",
       "122160                              Saída de Pista  ...   Urbano  2015   \n",
       "\n",
       "       pessoas mortos feridos_leves feridos_graves ilesos  ignorados  feridos  \\\n",
       "0            2      0             0              0      2          0        0   \n",
       "1            2      0             1              0      1          0        1   \n",
       "2            2      0             0              0      2          0        0   \n",
       "3            4      0             4              0      0          0        4   \n",
       "4            1      0             0              0      1          0        0   \n",
       "...        ...    ...           ...            ...    ...        ...      ...   \n",
       "122156       3      0             1              0      2          0        1   \n",
       "122157       2      0             0              0      2          0        0   \n",
       "122158       4      1             1              1      0          1        2   \n",
       "122159       2      0             0              0      2          0        0   \n",
       "122160       1      0             0              0      1          0        0   \n",
       "\n",
       "        veiculos  \n",
       "0              2  \n",
       "1              1  \n",
       "2              2  \n",
       "3              1  \n",
       "4              1  \n",
       "...          ...  \n",
       "122156         2  \n",
       "122157         2  \n",
       "122158         2  \n",
       "122159         1  \n",
       "122160         1  \n",
       "\n",
       "[122161 rows x 26 columns]>"
      ]
     },
     "execution_count": 211,
     "metadata": {},
     "output_type": "execute_result"
    }
   ],
   "source": [
    "df.info"
   ]
  },
  {
   "cell_type": "code",
   "execution_count": 212,
   "id": "13ade411",
   "metadata": {},
   "outputs": [
    {
     "name": "stdout",
     "output_type": "stream",
     "text": [
      "<class 'pandas.core.frame.DataFrame'>\n",
      "RangeIndex: 4397511 entries, 0 to 4397510\n",
      "Data columns (total 26 columns):\n",
      " #   Column                  Dtype \n",
      "---  ------                  ----- \n",
      " 0   id                      int64 \n",
      " 1   data_inversa            object\n",
      " 2   dia_semana              object\n",
      " 3   horario                 object\n",
      " 4   uf                      object\n",
      " 5   br                      object\n",
      " 6   km                      object\n",
      " 7   municipio               object\n",
      " 8   causa_acidente          object\n",
      " 9   tipo_acidente           object\n",
      " 10  classificacao_acidente  object\n",
      " 11  fase_dia                object\n",
      " 12  sentido_via             object\n",
      " 13  condicao_metereologica  object\n",
      " 14  tipo_pista              object\n",
      " 15  tracado_via             object\n",
      " 16  uso_solo                object\n",
      " 17  ano                     int64 \n",
      " 18  pessoas                 int64 \n",
      " 19  mortos                  int64 \n",
      " 20  feridos_leves           int64 \n",
      " 21  feridos_graves          int64 \n",
      " 22  ilesos                  int64 \n",
      " 23  ignorados               int64 \n",
      " 24  feridos                 int64 \n",
      " 25  veiculos                int64 \n",
      "dtypes: int64(10), object(16)\n",
      "memory usage: 872.3+ MB\n",
      "None\n"
     ]
    }
   ],
   "source": [
    "# Informações sobre o DataFrame (colunas, tipos de dados, etc.)\n",
    "print(resultado.info())\n"
   ]
  },
  {
   "cell_type": "markdown",
   "id": "d64fc0b9",
   "metadata": {},
   "source": [
    "# Aqui começamos as análises de dados"
   ]
  },
  {
   "cell_type": "code",
   "execution_count": 213,
   "id": "be73fac3",
   "metadata": {},
   "outputs": [],
   "source": [
    "# Contagem de valores únicos em uma coluna específica (por exemplo, 'uf')\n",
    "uf_counts = resultado['uf'].value_counts()"
   ]
  },
  {
   "cell_type": "code",
   "execution_count": 214,
   "id": "e0659dd1",
   "metadata": {},
   "outputs": [],
   "source": [
    "# Criar uma tabela para exibir os resultados\n",
    "table = PrettyTable(['UF', 'Contagem'])\n",
    "for uf, count in uf_counts.items():\n",
    "    table.add_row([uf, count])"
   ]
  },
  {
   "cell_type": "code",
   "execution_count": 215,
   "id": "070a1d82",
   "metadata": {},
   "outputs": [
    {
     "name": "stdout",
     "output_type": "stream",
     "text": [
      "+--------+----------+\n",
      "|   UF   | Contagem |\n",
      "+--------+----------+\n",
      "|   MG   |  641655  |\n",
      "|   SC   |  468804  |\n",
      "|   PR   |  438150  |\n",
      "|   RJ   |  400515  |\n",
      "|   RS   |  351417  |\n",
      "|   SP   |  334362  |\n",
      "|   BA   |  243090  |\n",
      "|   GO   |  192744  |\n",
      "|   ES   |  190971  |\n",
      "|   PE   |  176916  |\n",
      "|   MT   |  102072  |\n",
      "|   PB   |  96516   |\n",
      "|   PA   |  95103   |\n",
      "|   RN   |  93939   |\n",
      "|   CE   |  88974   |\n",
      "|   MS   |  84279   |\n",
      "|   RO   |  79491   |\n",
      "|   MA   |  69093   |\n",
      "|   PI   |  66402   |\n",
      "|   AL   |  51324   |\n",
      "|   SE   |  37740   |\n",
      "|   DF   |  34929   |\n",
      "|   TO   |  27906   |\n",
      "|   AC   |  11694   |\n",
      "|   RR   |   8328   |\n",
      "|   AP   |   5646   |\n",
      "|   AM   |   5415   |\n",
      "| (null) |    36    |\n",
      "+--------+----------+\n"
     ]
    }
   ],
   "source": [
    "print(table)"
   ]
  },
  {
   "cell_type": "code",
   "execution_count": 216,
   "id": "fa69e7d4",
   "metadata": {},
   "outputs": [
    {
     "name": "stdout",
     "output_type": "stream",
     "text": [
      "\n",
      "Estatísticas Descritivas:\n",
      "+-----------+---------------------+---------------------+--------+----------+----------+------------+------------+\n",
      "|   count   |         mean        |         std         |  min   |   25%    |   50%    |    75%     |    max     |\n",
      "+-----------+---------------------+---------------------+--------+----------+----------+------------+------------+\n",
      "| 4397511.0 |  21854108.878706157 |  35980189.45903043  |  8.0   | 574842.0 | 964163.0 | 83048039.0 | 83481326.0 |\n",
      "| 4397511.0 |  2011.0816741561307 |  2.4122183995314974 | 2007.0 |  2009.0  |  2011.0  |   2013.0   |   2015.0   |\n",
      "| 4397511.0 | 0.04808515544361344 |  0.2772775897351397 |  0.0   |   0.0    |   0.0    |    0.0     |    33.0    |\n",
      "| 4397511.0 | 0.08410348490316454 | 0.37537300106461335 |  0.0   |   0.0    |   0.0    |    0.0     |    86.0    |\n",
      "+-----------+---------------------+---------------------+--------+----------+----------+------------+------------+\n"
     ]
    }
   ],
   "source": [
    "# Estatísticas descritivas das colunas numéricas\n",
    "print(\"\\nEstatísticas Descritivas:\")\n",
    "desc_stats = resultado.describe().transpose()\n",
    "desc_table = PrettyTable(desc_stats.columns.tolist())  # Convertendo para lista\n",
    "desc_table.add_row(desc_stats.iloc[0].tolist())  # Convertendo para lista\n",
    "desc_table.add_row(desc_stats.iloc[1].tolist())  # Convertendo para lista\n",
    "desc_table.add_row(desc_stats.iloc[3].tolist())  # Convertendo para lista\n",
    "desc_table.add_row(desc_stats.iloc[7].tolist())  # Convertendo para lista\n",
    "print(desc_table)"
   ]
  },
  {
   "cell_type": "code",
   "execution_count": 217,
   "id": "d7089896",
   "metadata": {},
   "outputs": [
    {
     "ename": "SyntaxError",
     "evalue": "invalid syntax (27535897.py, line 1)",
     "output_type": "error",
     "traceback": [
      "\u001b[1;36m  File \u001b[1;32m\"C:\\Users\\User\\AppData\\Local\\Temp\\ipykernel_1180\\27535897.py\"\u001b[1;36m, line \u001b[1;32m1\u001b[0m\n\u001b[1;33m    Estatísticas Descritivas:\u001b[0m\n\u001b[1;37m                 ^\u001b[0m\n\u001b[1;31mSyntaxError\u001b[0m\u001b[1;31m:\u001b[0m invalid syntax\n"
     ]
    }
   ],
   "source": [
    "Estatísticas Descritivas:\n",
    "+-----------+---------------------+---------------------+--------+----------+----------+------------+------------+\n",
    "|   count   |         mean        |         std         |  min   |   25%    |   50%    |    75%     |    max     |\n",
    "+-----------+---------------------+---------------------+--------+----------+----------+------------+------------+\n",
    "| 1465837.0 |  21854108.878706157 |  35980197.64098091  |  8.0   | 574842.0 | 964163.0 | 83048039.0 | 83481326.0 |\n",
    "| 1465837.0 |  2011.0816741561307 |  2.4122189480777307 | 2007.0 |  2009.0  |  2011.0  |   2013.0   |   2015.0   |\n",
    "| 1465837.0 | 0.04808515544361344 | 0.27727765278435956 |  0.0   |   0.0    |   0.0    |    0.0     |    33.0    |\n",
    "| 1465837.0 | 0.08410348490316454 | 0.37537308643144235 |  0.0   |   0.0    |   0.0    |    0.0     |    86.0    |\n",
    "+-----------+---------------------+---------------------+--------+----------+----------+------------+------------+"
   ]
  },
  {
   "cell_type": "markdown",
   "id": "3280769c",
   "metadata": {},
   "source": [
    "# Gráficos"
   ]
  },
  {
   "cell_type": "markdown",
   "id": "16b0628f",
   "metadata": {},
   "source": [
    "# 1. Gráfico de Barras Horizontais para Contagem de Acidentes por UF"
   ]
  },
  {
   "cell_type": "code",
   "execution_count": null,
   "id": "c1346f53",
   "metadata": {},
   "outputs": [],
   "source": [
    "\n",
    "plt.figure(figsize=(12, 6))\n",
    "ax = sns.countplot(y='uf', data=resultado, order=resultado['uf'].value_counts().index, palette='viridis')\n",
    "\n",
    "# Removendo as linhas verticais e os números do eixo x\n",
    "ax.set_xticks([])\n",
    "ax.xaxis.set_ticks_position('none')\n",
    "\n",
    "# Adicionando rótulos ao lado das barras\n",
    "for p in ax.patches:\n",
    "    width = p.get_width()\n",
    "    ax.annotate(f'{width}', (width, p.get_y() + p.get_height() / 2.),\n",
    "                ha='left', va='center', xytext=(5, 0), textcoords='offset points')\n",
    "    \n",
    "    \n",
    "# Definindo o título do gráfico\n",
    "plt.title('Contagem de Acidentes por UF', fontsize=20, fontweight='bold')\n",
    "\n",
    "plt.show()"
   ]
  },
  {
   "cell_type": "markdown",
   "id": "ccd6b8b8",
   "metadata": {},
   "source": [
    "# 2. Gráfico de Pizza para Relação entre Feridos Graves e Mortos"
   ]
  },
  {
   "cell_type": "code",
   "execution_count": null,
   "id": "06417e3a",
   "metadata": {},
   "outputs": [],
   "source": [
    "# 2. Gráfico de Pizza para Relação entre Feridos Graves e Mortos\n",
    "\n",
    "# Calcula a soma de feridos graves e mortos\n",
    "total_feridos_graves = resultado['feridos_graves'].sum()\n",
    "total_mortos = resultado['mortos'].sum()\n",
    "\n",
    "# Prepara os dados para o gráfico de pizza\n",
    "dados_pizza = [total_feridos_graves, total_mortos]\n",
    "rotulos = ['Feridos Graves', 'Mortos']\n",
    "\n",
    "# Cria o gráfico de pizza\n",
    "plt.figure(figsize=(8, 8))\n",
    "explode = (0, 0.1)  # Explode a fatia de \"Mortos\" para destacá-la\n",
    "plt.pie(dados_pizza, labels=rotulos, autopct=lambda p: '{:.1f}%\\n({:.0f})'.format(p, p * sum(dados_pizza) / 100),\n",
    "        startangle=80, explode=explode)\n",
    "plt.title('Distribuição de Feridos Graves e Mortos',fontsize=16, fontweight='bold')\n",
    "plt.show()"
   ]
  },
  {
   "cell_type": "markdown",
   "id": "e77500cd",
   "metadata": {},
   "source": [
    "# 3. Gráfico de Barras para Número Total de Pessoas por Tipo de Acidente"
   ]
  },
  {
   "cell_type": "code",
   "execution_count": null,
   "id": "270a1d89",
   "metadata": {},
   "outputs": [],
   "source": [
    "\n",
    "\n",
    "plt.figure(figsize=(12, 6))\n",
    "ax = sns.barplot(x='tipo_acidente', y='pessoas', data=resultado, estimator=sum, ci=None, palette='viridis', capsize=0.05, errwidth=1.5)\n",
    "\n",
    "# Adicionando rótulos acima de cada barra\n",
    "for p in ax.patches:\n",
    "    ax.annotate(f'{p.get_height()}', (p.get_x() + p.get_width() / 2., p.get_height()),\n",
    "                ha='center', va='center', xytext=(0, 10), textcoords='offset points')\n",
    "\n",
    "plt.title('Número Total de Pessoas por Tipo de Acidente', fontsize=20, fontweight='bold')  # Título em negrito\n",
    "plt.xlabel('Tipo de Acidente')\n",
    "plt.ylabel('')  # Remova o rótulo do eixo y\n",
    "plt.xticks(rotation=45)\n",
    "plt.show()"
   ]
  },
  {
   "cell_type": "markdown",
   "id": "767b9662",
   "metadata": {},
   "source": [
    "# Tratando a data e hora"
   ]
  },
  {
   "cell_type": "code",
   "execution_count": null,
   "id": "4cbb995b",
   "metadata": {},
   "outputs": [],
   "source": [
    "# Convertendo 'horario' para o formato de tempo\n",
    "resultado['horario'] = pd.to_datetime(resultado['horario'], format='%H:%M:%S')\n"
   ]
  },
  {
   "cell_type": "code",
   "execution_count": null,
   "id": "3c85ab8c",
   "metadata": {},
   "outputs": [],
   "source": [
    "# Extraindo hora, dia da semana e ano\n",
    "resultado['hora'] = resultado['horario'].dt.hour\n",
    "resultado['dia_semana'] = resultado['horario'].dt.day_name()\n"
   ]
  },
  {
   "cell_type": "markdown",
   "id": "01ed9946",
   "metadata": {},
   "source": [
    "# 4. Gráfico de barras Total de Mortos por Ano"
   ]
  },
  {
   "cell_type": "code",
   "execution_count": 218,
   "id": "643d92d5",
   "metadata": {},
   "outputs": [
    {
     "ename": "KeyError",
     "evalue": "'hora'",
     "output_type": "error",
     "traceback": [
      "\u001b[1;31m---------------------------------------------------------------------------\u001b[0m",
      "\u001b[1;31mKeyError\u001b[0m                                  Traceback (most recent call last)",
      "\u001b[1;32m~\\AppData\\Local\\Temp\\ipykernel_1180\\3444195403.py\u001b[0m in \u001b[0;36m<module>\u001b[1;34m\u001b[0m\n\u001b[0;32m      1\u001b[0m \u001b[1;31m# Agrupando e calculando o total de mortos por hora, dia e ano\u001b[0m\u001b[1;33m\u001b[0m\u001b[1;33m\u001b[0m\u001b[0m\n\u001b[1;32m----> 2\u001b[1;33m \u001b[0mtabela_mortes\u001b[0m \u001b[1;33m=\u001b[0m \u001b[0mresultado\u001b[0m\u001b[1;33m.\u001b[0m\u001b[0mgroupby\u001b[0m\u001b[1;33m(\u001b[0m\u001b[1;33m[\u001b[0m\u001b[1;34m'hora'\u001b[0m\u001b[1;33m,\u001b[0m \u001b[1;34m'dia_semana'\u001b[0m\u001b[1;33m,\u001b[0m \u001b[1;34m'ano'\u001b[0m\u001b[1;33m]\u001b[0m\u001b[1;33m)\u001b[0m\u001b[1;33m[\u001b[0m\u001b[1;34m'mortos'\u001b[0m\u001b[1;33m]\u001b[0m\u001b[1;33m.\u001b[0m\u001b[0msum\u001b[0m\u001b[1;33m(\u001b[0m\u001b[1;33m)\u001b[0m\u001b[1;33m.\u001b[0m\u001b[0mreset_index\u001b[0m\u001b[1;33m(\u001b[0m\u001b[0mdrop\u001b[0m\u001b[1;33m=\u001b[0m\u001b[1;32mTrue\u001b[0m\u001b[1;33m)\u001b[0m\u001b[1;33m\u001b[0m\u001b[1;33m\u001b[0m\u001b[0m\n\u001b[0m",
      "\u001b[1;32m~\\anaconda3\\lib\\site-packages\\pandas\\core\\frame.py\u001b[0m in \u001b[0;36mgroupby\u001b[1;34m(self, by, axis, level, as_index, sort, group_keys, squeeze, observed, dropna)\u001b[0m\n\u001b[0;32m   7719\u001b[0m         \u001b[1;31m# error: Argument \"squeeze\" to \"DataFrameGroupBy\" has incompatible type\u001b[0m\u001b[1;33m\u001b[0m\u001b[1;33m\u001b[0m\u001b[0m\n\u001b[0;32m   7720\u001b[0m         \u001b[1;31m# \"Union[bool, NoDefault]\"; expected \"bool\"\u001b[0m\u001b[1;33m\u001b[0m\u001b[1;33m\u001b[0m\u001b[0m\n\u001b[1;32m-> 7721\u001b[1;33m         return DataFrameGroupBy(\n\u001b[0m\u001b[0;32m   7722\u001b[0m             \u001b[0mobj\u001b[0m\u001b[1;33m=\u001b[0m\u001b[0mself\u001b[0m\u001b[1;33m,\u001b[0m\u001b[1;33m\u001b[0m\u001b[1;33m\u001b[0m\u001b[0m\n\u001b[0;32m   7723\u001b[0m             \u001b[0mkeys\u001b[0m\u001b[1;33m=\u001b[0m\u001b[0mby\u001b[0m\u001b[1;33m,\u001b[0m\u001b[1;33m\u001b[0m\u001b[1;33m\u001b[0m\u001b[0m\n",
      "\u001b[1;32m~\\anaconda3\\lib\\site-packages\\pandas\\core\\groupby\\groupby.py\u001b[0m in \u001b[0;36m__init__\u001b[1;34m(self, obj, keys, axis, level, grouper, exclusions, selection, as_index, sort, group_keys, squeeze, observed, mutated, dropna)\u001b[0m\n\u001b[0;32m    880\u001b[0m             \u001b[1;32mfrom\u001b[0m \u001b[0mpandas\u001b[0m\u001b[1;33m.\u001b[0m\u001b[0mcore\u001b[0m\u001b[1;33m.\u001b[0m\u001b[0mgroupby\u001b[0m\u001b[1;33m.\u001b[0m\u001b[0mgrouper\u001b[0m \u001b[1;32mimport\u001b[0m \u001b[0mget_grouper\u001b[0m\u001b[1;33m\u001b[0m\u001b[1;33m\u001b[0m\u001b[0m\n\u001b[0;32m    881\u001b[0m \u001b[1;33m\u001b[0m\u001b[0m\n\u001b[1;32m--> 882\u001b[1;33m             grouper, exclusions, obj = get_grouper(\n\u001b[0m\u001b[0;32m    883\u001b[0m                 \u001b[0mobj\u001b[0m\u001b[1;33m,\u001b[0m\u001b[1;33m\u001b[0m\u001b[1;33m\u001b[0m\u001b[0m\n\u001b[0;32m    884\u001b[0m                 \u001b[0mkeys\u001b[0m\u001b[1;33m,\u001b[0m\u001b[1;33m\u001b[0m\u001b[1;33m\u001b[0m\u001b[0m\n",
      "\u001b[1;32m~\\anaconda3\\lib\\site-packages\\pandas\\core\\groupby\\grouper.py\u001b[0m in \u001b[0;36mget_grouper\u001b[1;34m(obj, key, axis, level, sort, observed, mutated, validate, dropna)\u001b[0m\n\u001b[0;32m    880\u001b[0m                 \u001b[0min_axis\u001b[0m\u001b[1;33m,\u001b[0m \u001b[0mlevel\u001b[0m\u001b[1;33m,\u001b[0m \u001b[0mgpr\u001b[0m \u001b[1;33m=\u001b[0m \u001b[1;32mFalse\u001b[0m\u001b[1;33m,\u001b[0m \u001b[0mgpr\u001b[0m\u001b[1;33m,\u001b[0m \u001b[1;32mNone\u001b[0m\u001b[1;33m\u001b[0m\u001b[1;33m\u001b[0m\u001b[0m\n\u001b[0;32m    881\u001b[0m             \u001b[1;32melse\u001b[0m\u001b[1;33m:\u001b[0m\u001b[1;33m\u001b[0m\u001b[1;33m\u001b[0m\u001b[0m\n\u001b[1;32m--> 882\u001b[1;33m                 \u001b[1;32mraise\u001b[0m \u001b[0mKeyError\u001b[0m\u001b[1;33m(\u001b[0m\u001b[0mgpr\u001b[0m\u001b[1;33m)\u001b[0m\u001b[1;33m\u001b[0m\u001b[1;33m\u001b[0m\u001b[0m\n\u001b[0m\u001b[0;32m    883\u001b[0m         \u001b[1;32melif\u001b[0m \u001b[0misinstance\u001b[0m\u001b[1;33m(\u001b[0m\u001b[0mgpr\u001b[0m\u001b[1;33m,\u001b[0m \u001b[0mGrouper\u001b[0m\u001b[1;33m)\u001b[0m \u001b[1;32mand\u001b[0m \u001b[0mgpr\u001b[0m\u001b[1;33m.\u001b[0m\u001b[0mkey\u001b[0m \u001b[1;32mis\u001b[0m \u001b[1;32mnot\u001b[0m \u001b[1;32mNone\u001b[0m\u001b[1;33m:\u001b[0m\u001b[1;33m\u001b[0m\u001b[1;33m\u001b[0m\u001b[0m\n\u001b[0;32m    884\u001b[0m             \u001b[1;31m# Add key to exclusions\u001b[0m\u001b[1;33m\u001b[0m\u001b[1;33m\u001b[0m\u001b[0m\n",
      "\u001b[1;31mKeyError\u001b[0m: 'hora'"
     ]
    }
   ],
   "source": [
    "# Agrupando e calculando o total de mortos por hora, dia e ano\n",
    "tabela_mortes = resultado.groupby(['hora', 'dia_semana', 'ano'])['mortos'].sum().reset_index(drop=True)\n"
   ]
  },
  {
   "cell_type": "code",
   "execution_count": 219,
   "id": "e95e6784",
   "metadata": {
    "scrolled": true
   },
   "outputs": [],
   "source": [
    "# Ordenando a tabela pelo número de mortos em ordem decrescente\n",
    "resultado = resultado.sort_values(by='mortos', ascending=False)\n"
   ]
  },
  {
   "cell_type": "code",
   "execution_count": 220,
   "id": "6d7fa3f3",
   "metadata": {},
   "outputs": [
    {
     "data": {
      "image/png": "[encoded data removed]",
      "text/plain": [
       "<Figure size 1200x600 with 1 Axes>"
      ]
     },
     "metadata": {},
     "output_type": "display_data"
    }
   ],
   "source": [
    "# Agrupar o DataFrame pela coluna 'ano' e somar o número de mortos em cada ano\n",
    "mortes_por_ano = resultado.groupby('ano')['mortos'].sum().reset_index()\n",
    "\n",
    "# Criar o gráfico de barras\n",
    "plt.figure(figsize=(12, 6))\n",
    "ax = sns.barplot(x='ano', y='mortos', data=mortes_por_ano, palette='viridis')\n",
    "\n",
    "# Adicionar rótulos nas barras\n",
    "for p in ax.patches:\n",
    "    ax.annotate(f'{p.get_height()}', (p.get_x() + p.get_width() / 2., p.get_height()),\n",
    "                ha='center', va='center', xytext=(0, 10), textcoords='offset points')\n",
    "\n",
    "plt.title('Número Total de Mortos por Ano', fontsize=16, fontweight='bold')\n",
    "plt.xlabel('')\n",
    "plt.ylabel('')\n",
    "plt.show()"
   ]
  }
 ],
 "metadata": {
  "kernelspec": {
   "display_name": "Python 3 (ipykernel)",
   "language": "python",
   "name": "python3"
  },
  "language_info": {
   "codemirror_mode": {
    "name": "ipython",
    "version": 3
   },
   "file_extension": ".py",
   "mimetype": "text/x-python",
   "name": "python",
   "nbconvert_exporter": "python",
   "pygments_lexer": "ipython3",
   "version": "3.9.13"
  }
 },
 "nbformat": 4,
 "nbformat_minor": 5
}
